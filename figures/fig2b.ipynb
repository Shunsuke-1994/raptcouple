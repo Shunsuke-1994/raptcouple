{
 "cells": [
  {
   "cell_type": "markdown",
   "metadata": {},
   "source": [
    "# Fig. 2b"
   ]
  },
  {
   "cell_type": "code",
   "execution_count": 9,
   "metadata": {},
   "outputs": [
    {
     "name": "stdout",
     "output_type": "stream",
     "text": [
      "/Users/sumishunsuke/Desktop/RNA/raptcouple_test\n"
     ]
    }
   ],
   "source": [
    "%cd ~/desktop/RNA/raptcouple_test/"
   ]
  },
  {
   "cell_type": "markdown",
   "metadata": {},
   "source": [
    "# check data "
   ]
  },
  {
   "cell_type": "code",
   "execution_count": 10,
   "metadata": {},
   "outputs": [
    {
     "name": "stdout",
     "output_type": "stream",
     "text": [
      "example/Jolma2020/outputs/0_BOLL_TGTTCG40NGAC_EMJ_4-91-44-166.51-3.coupling\n",
      "example/Jolma2020/outputs/0_BOLL_TGTTCG40NGAC_EMJ_4-91-44-166.51-3.model_params\n",
      "example/Jolma2020/outputs/0_BOLL_TGTTCG40NGAC_EMJ_4-91-44-166.51-3.model_params.pdf\n",
      "example/Jolma2020/outputs/0_BOLL_TGTTCG40NGAC_EMJ_4-91-44-166.51-3.msa\n"
     ]
    }
   ],
   "source": [
    "!ls example/Jolma2020/outputs/*BOLL*"
   ]
  }
 ],
 "metadata": {
  "kernelspec": {
   "display_name": "raptcouple",
   "language": "python",
   "name": "python3"
  },
  "language_info": {
   "codemirror_mode": {
    "name": "ipython",
    "version": 3
   },
   "file_extension": ".py",
   "mimetype": "text/x-python",
   "name": "python",
   "nbconvert_exporter": "python",
   "pygments_lexer": "ipython3",
   "version": "3.10.11"
  }
 },
 "nbformat": 4,
 "nbformat_minor": 2
}
