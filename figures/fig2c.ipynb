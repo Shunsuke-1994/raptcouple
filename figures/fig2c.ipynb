{
 "cells": [
  {
   "cell_type": "code",
   "execution_count": 49,
   "metadata": {},
   "outputs": [
    {
     "name": "stdout",
     "output_type": "stream",
     "text": [
      "/Users/sumishunsuke/Desktop/RNA/raptcouple_test\n"
     ]
    }
   ],
   "source": [
    "%cd /Users/sumishunsuke/Desktop/RNA/raptcouple_test"
   ]
  },
  {
   "cell_type": "markdown",
   "metadata": {},
   "source": [
    "# Fig. 2c\n",
    "comparison of sequence annotatioins"
   ]
  },
  {
   "cell_type": "code",
   "execution_count": 50,
   "metadata": {},
   "outputs": [
    {
     "data": {
      "text/plain": [
       "['example/Jolma2020/outputs/128_RBMY1E_TGGTGG40NTAA_EMO_4-971-24-66.20-20.model_params',\n",
       " 'example/Jolma2020/outputs/70_RNPC3_TTAACA40NTGT_AAH_3-92-60-269.95-2.model_params',\n",
       " 'example/Jolma2020/outputs/115_RBFOX1-construct2_TTGCGA40NTACG_AAG_4-992-1-6.10-160746.model_params',\n",
       " 'example/Jolma2020/outputs/52_RBM14_TTAGCA40NGGT_AAG_4-90-36-174.14-1.model_params',\n",
       " 'example/Jolma2020/outputs/115_RBFOX1_TGTCTT40NTTC_AAG_4-969-1-6.43-153461.model_params',\n",
       " 'example/Jolma2020/outputs/27_IGF2BP1-construct4_TTAGGT40NTAA_AAG_4-994-11-58.98-105.model_params',\n",
       " 'example/Jolma2020/outputs/103_DAZ1-construct2_TGGCCT40NATTT_AAG_4-979-5-27.58-42.model_params',\n",
       " 'example/Jolma2020/outputs/24_HNRNPCL1_TAGCCA40NTAT_AAG_4-933-7-48.86-90.model_params',\n",
       " 'example/Jolma2020/outputs/23_HNRNPC_TTCTTG40NCTTT_AAH_3-64-6-34.01-109.model_params',\n",
       " 'example/Jolma2020/outputs/66_RBPMS2_TCTAAA40NCGC_EMN_4-9564-13-12.81-840.model_params']"
      ]
     },
     "execution_count": 50,
     "metadata": {},
     "output_type": "execute_result"
    }
   ],
   "source": [
    "import sys\n",
    "sys.path.append(\"./\")\n",
    "import glob\n",
    "from src.plmc import read_params\n",
    "\n",
    "data_dir = \"example/Jolma2020/outputs\"\n",
    "model_params = glob.glob(data_dir + \"/*.model_params\")\n",
    "model_params[:10]"
   ]
  },
  {
   "cell_type": "code",
   "execution_count": 51,
   "metadata": {},
   "outputs": [],
   "source": [
    "import numpy as np\n",
    "\n",
    "def cosine(p, q):\n",
    "    \"\"\"\n",
    "    p: ( n_category, L)\n",
    "    q: (n_category, L)\n",
    "    \"\"\"\n",
    "    return (p * q).sum(axis=0) / (np.linalg.norm(p, axis=0) * np.linalg.norm(q, axis=0))\n",
    "\n",
    "\n",
    "def calc_max_cosine_sim(pwm_jolma, pos_field, max_padding=2):\n",
    "    x,y = [], []\n",
    "    # reduce padding lengh  so that maxpadding < len(pwm_jolma.columns)/2\n",
    "    max_padding = min(max_padding, len(pwm_jolma.columns)//2)\n",
    "    for i in range(-max_padding, len(pos_field.columns)-len(pwm_jolma.columns)+max_padding+1):\n",
    "        # print(i)\n",
    "        if i < 0:\n",
    "            cos = cosine(\n",
    "                pos_field.values[:, :len(pwm_jolma.columns)+i],\n",
    "                pwm_jolma.values[:, -i:]\n",
    "            ).mean()\n",
    "        elif i > len(pos_field.columns)-len(pwm_jolma.columns):\n",
    "            cut_leng = i - (len(pos_field.columns)-len(pwm_jolma.columns))\n",
    "            cos = cosine(\n",
    "                pos_field.values[:,i:],\n",
    "                pwm_jolma.values[:, -len(pwm_jolma.columns)+cut_leng:]\n",
    "            ).mean()\n",
    "        else: # normal\n",
    "            cos = cosine(\n",
    "                pos_field.values[:, i:i+len(pwm_jolma.columns)],\n",
    "                pwm_jolma.values,\n",
    "                ).mean()\n",
    "        x.append(i)\n",
    "        y.append(cos)\n",
    "\n",
    "    max_sim = max(y)\n",
    "    return x, y, max_sim"
   ]
  },
  {
   "cell_type": "code",
   "execution_count": 52,
   "metadata": {},
   "outputs": [
    {
     "data": {
      "text/html": [
       "<div>\n",
       "<style scoped>\n",
       "    .dataframe tbody tr th:only-of-type {\n",
       "        vertical-align: middle;\n",
       "    }\n",
       "\n",
       "    .dataframe tbody tr th {\n",
       "        vertical-align: top;\n",
       "    }\n",
       "\n",
       "    .dataframe thead th {\n",
       "        text-align: right;\n",
       "    }\n",
       "</style>\n",
       "<table border=\"1\" class=\"dataframe\">\n",
       "  <thead>\n",
       "    <tr style=\"text-align: right;\">\n",
       "      <th></th>\n",
       "      <th>0</th>\n",
       "      <th>1</th>\n",
       "      <th>2</th>\n",
       "      <th>3</th>\n",
       "      <th>4</th>\n",
       "      <th>5</th>\n",
       "      <th>6</th>\n",
       "      <th>7</th>\n",
       "      <th>8</th>\n",
       "      <th>9</th>\n",
       "      <th>10</th>\n",
       "      <th>11</th>\n",
       "      <th>12</th>\n",
       "      <th>13</th>\n",
       "      <th>14</th>\n",
       "    </tr>\n",
       "  </thead>\n",
       "  <tbody>\n",
       "    <tr>\n",
       "      <th>A</th>\n",
       "      <td>0.114736</td>\n",
       "      <td>0.098403</td>\n",
       "      <td>0.039801</td>\n",
       "      <td>0.000000</td>\n",
       "      <td>0.000000</td>\n",
       "      <td>0.001223</td>\n",
       "      <td>0.0</td>\n",
       "      <td>0.00047</td>\n",
       "      <td>0.0</td>\n",
       "      <td>0.00000</td>\n",
       "      <td>0.000000</td>\n",
       "      <td>0.000000</td>\n",
       "      <td>0.005005</td>\n",
       "      <td>0.560771</td>\n",
       "      <td>0.107303</td>\n",
       "    </tr>\n",
       "    <tr>\n",
       "      <th>C</th>\n",
       "      <td>0.110075</td>\n",
       "      <td>0.085035</td>\n",
       "      <td>0.001357</td>\n",
       "      <td>0.975069</td>\n",
       "      <td>0.996718</td>\n",
       "      <td>0.165104</td>\n",
       "      <td>0.0</td>\n",
       "      <td>0.00000</td>\n",
       "      <td>0.0</td>\n",
       "      <td>0.99953</td>\n",
       "      <td>0.992997</td>\n",
       "      <td>0.930911</td>\n",
       "      <td>0.009099</td>\n",
       "      <td>0.036778</td>\n",
       "      <td>0.101341</td>\n",
       "    </tr>\n",
       "    <tr>\n",
       "      <th>G</th>\n",
       "      <td>0.100394</td>\n",
       "      <td>0.096918</td>\n",
       "      <td>0.951606</td>\n",
       "      <td>0.000000</td>\n",
       "      <td>0.000000</td>\n",
       "      <td>0.000408</td>\n",
       "      <td>0.0</td>\n",
       "      <td>0.99953</td>\n",
       "      <td>0.0</td>\n",
       "      <td>0.00000</td>\n",
       "      <td>0.000000</td>\n",
       "      <td>0.000000</td>\n",
       "      <td>0.964513</td>\n",
       "      <td>0.279860</td>\n",
       "      <td>0.121833</td>\n",
       "    </tr>\n",
       "    <tr>\n",
       "      <th>U</th>\n",
       "      <td>0.674794</td>\n",
       "      <td>0.719644</td>\n",
       "      <td>0.007237</td>\n",
       "      <td>0.024931</td>\n",
       "      <td>0.003282</td>\n",
       "      <td>0.833265</td>\n",
       "      <td>1.0</td>\n",
       "      <td>0.00000</td>\n",
       "      <td>1.0</td>\n",
       "      <td>0.00047</td>\n",
       "      <td>0.007003</td>\n",
       "      <td>0.069089</td>\n",
       "      <td>0.021383</td>\n",
       "      <td>0.122592</td>\n",
       "      <td>0.669523</td>\n",
       "    </tr>\n",
       "  </tbody>\n",
       "</table>\n",
       "</div>"
      ],
      "text/plain": [
       "         0         1         2         3         4         5    6        7    \n",
       "A  0.114736  0.098403  0.039801  0.000000  0.000000  0.001223  0.0  0.00047  \\\n",
       "C  0.110075  0.085035  0.001357  0.975069  0.996718  0.165104  0.0  0.00000   \n",
       "G  0.100394  0.096918  0.951606  0.000000  0.000000  0.000408  0.0  0.99953   \n",
       "U  0.674794  0.719644  0.007237  0.024931  0.003282  0.833265  1.0  0.00000   \n",
       "\n",
       "    8        9         10        11        12        13        14  \n",
       "A  0.0  0.00000  0.000000  0.000000  0.005005  0.560771  0.107303  \n",
       "C  0.0  0.99953  0.992997  0.930911  0.009099  0.036778  0.101341  \n",
       "G  0.0  0.00000  0.000000  0.000000  0.964513  0.279860  0.121833  \n",
       "U  1.0  0.00047  0.007003  0.069089  0.021383  0.122592  0.669523  "
      ]
     },
     "execution_count": 52,
     "metadata": {},
     "output_type": "execute_result"
    }
   ],
   "source": [
    "from src.helper_jolma import load_pwms\n",
    "\n",
    "dict_gene2motif_jolma = load_pwms(\"example/Jolma2020/data/Supplemental_Tables_S1-S8.xlsx\")\n",
    "dict_gene2motif_jolma[\"CARHSP1_TGCAGT40NAAG_AAG_UUGCCUUGUCCCGAU_2_3_monomeric_Primary_Experiment_1\"]"
   ]
  },
  {
   "cell_type": "code",
   "execution_count": 53,
   "metadata": {},
   "outputs": [
    {
     "name": "stdout",
     "output_type": "stream",
     "text": [
      "CARHSP1_TGCAGT40NAAG_AAG_GCCAUGAUCAUGAU_2_3_dimeric_Secondary_Experiment_1 example/Jolma2020/outputs/2_CARHSP1_TGCAGT40NAAG_EMJ_4-798-9-94.21-71.model_params 0.5724754058236654\n",
      "RBMS1_TATTCA40NTCAG_AAG_UUAUAAUCAAC_2_3_monomeric_Secondary_Experiment_1 example/Jolma2020/outputs/123_RBMS1_TGAGAG40NCGC_AAG_4-928-12-70.97-88.model_params 0.5194702468764308\n"
     ]
    },
    {
     "data": {
      "text/plain": [
       "0.841438087990815"
      ]
     },
     "execution_count": 53,
     "metadata": {},
     "output_type": "execute_result"
    }
   ],
   "source": [
    "import pandas as pd \n",
    "from src.helper_jolma import trim_pwm_with_entropy\n",
    "\n",
    "\n",
    "\n",
    "threshold = 1.5\n",
    "x_,y_ = np.nan, np.nan\n",
    "min_max_cosine = 0.7\n",
    "res_compares = []\n",
    "\n",
    "# dict_gene2motif_jolma.keys でfor を回して, match するmodel paramsをscan\n",
    "# {model_params:max}\n",
    "\n",
    "gene2score = {}\n",
    "\n",
    "for tf_key, pwm_jolma in dict_gene2motif_jolma.items():\n",
    "    pwm_jolma = trim_pwm_with_entropy(pwm_jolma.loc[list(\"AUGC\")], threshold=threshold)\n",
    "    gene, *_ = tf_key.split(\"_\")\n",
    "    model_params = glob.glob(data_dir + f\"/*_{gene}_*.model_params\")\n",
    "    for model_param in model_params:\n",
    "        model_params = read_params(model_param)\n",
    "        pos_field = pd.DataFrame(model_params[\"fi\"], columns = list(model_params[\"alphabet\"])).T # AUGC.\n",
    "        x,y, max_sim = calc_max_cosine_sim(pwm_jolma, pos_field.iloc[range(4)], max_padding = 3)\n",
    "        if gene in gene2score:\n",
    "            if gene2score[gene] < max_sim:\n",
    "                gene2score[gene] = max_sim\n",
    "        else:\n",
    "            gene2score[gene] = max_sim\n",
    "        if max_sim < min_max_cosine:            \n",
    "            min_max_cosine = max_sim\n",
    "            x_,y_ = x,y\n",
    "            print(tf_key, model_param, max_sim) \n",
    "        res_compares.append([tf_key, model_param, max_sim])\n",
    "\n",
    "gene2score[\"BOLL\"]"
   ]
  },
  {
   "cell_type": "code",
   "execution_count": 48,
   "metadata": {},
   "outputs": [
    {
     "name": "stdout",
     "output_type": "stream",
     "text": [
      "mean 0.9302517829127352\n",
      "std 0.08489397123332516\n",
      "median 0.9654805816063899\n"
     ]
    },
    {
     "data": {
      "image/png": "[encoded data removed]",
      "text/plain": [
       "<Figure size 600x400 with 1 Axes>"
      ]
     },
     "metadata": {},
     "output_type": "display_data"
    }
   ],
   "source": [
    "import matplotlib.pyplot as plt\n",
    "\n",
    "plt.figure(figsize=(6,4))\n",
    "plt.xlim(0.5, 1)\n",
    "plt.hist(list(gene2score.values()), bins = 15)\n",
    "plt.grid(0.3)\n",
    "# plt.savefig(\"example/Jolma2020/outputs/cosine_sim_pwm.pdf\", transparent=True)\n",
    "\n",
    "print(\"mean\", np.mean(list(gene2score.values())))\n",
    "print(\"std\", np.std(list(gene2score.values())))\n",
    "print(\"median\", np.median(list(gene2score.values())))"
   ]
  }
 ],
 "metadata": {
  "kernelspec": {
   "display_name": "raptcouple",
   "language": "python",
   "name": "python3"
  },
  "language_info": {
   "codemirror_mode": {
    "name": "ipython",
    "version": 3
   },
   "file_extension": ".py",
   "mimetype": "text/x-python",
   "name": "python",
   "nbconvert_exporter": "python",
   "pygments_lexer": "ipython3",
   "version": "3.10.11"
  }
 },
 "nbformat": 4,
 "nbformat_minor": 2
}
